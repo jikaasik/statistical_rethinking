{
 "cells": [
  {
   "cell_type": "code",
   "execution_count": 1,
   "id": "554b99e0-bbd9-4925-b851-ed68d74df49a",
   "metadata": {},
   "outputs": [],
   "source": [
    "import numpy as np\n",
    "import scipy.stats as stats\n",
    "import matplotlib.pyplot as plt\n",
    "import arviz as az"
   ]
  },
  {
   "cell_type": "markdown",
   "id": "5f44174c-6bec-4c30-8170-febd806c3e27",
   "metadata": {
    "tags": []
   },
   "source": [
    "## Easy"
   ]
  },
  {
   "cell_type": "markdown",
   "id": "e35e571e-fec7-4a0c-a589-a94c485cd5da",
   "metadata": {
    "tags": []
   },
   "source": [
    "__4E1__\n",
    "\n",
    "The likelihood is line 1: $y_i \\sim Normal(\\mu, \\sigma)$\n",
    "\n",
    "__4E2__\n",
    "\n",
    "There are two parameters ($\\mu$ and $\\sigma$) in the model:\n",
    "\n",
    "\n",
    "\\begin{align}\n",
    "y_i &\\sim Normal(\\mu, \\sigma) \\\\\n",
    "\\mu &\\sim Normal(0, 10) \\\\\n",
    "\\sigma &\\sim Exponential(1)\n",
    "\\end{align}\n",
    "\n",
    "\n",
    "__4E3__\n",
    "\n",
    "$$ Pr(\\mu, \\sigma | y) = \\frac{Normal(y|\\mu, \\sigma) Normal(\\mu|0, 10)Exponential(\\sigma|1)}\n",
    "{\\int\\int Normal(y|\\mu, sigma)Normal(\\mu|0, 10)Exponential(\\sigma|1)d\\mu d\\sigma}$$\n",
    "\n",
    "__4E4__\n",
    "\n",
    "The linear model is in the second line: $\\mu_i = \\alpha + \\beta x_i$\n",
    "\n",
    "__4E5__\n",
    "\n",
    "The model below has three parameters: $\\alpha, \\beta$ and $\\sigma $:\n",
    "\\begin{align}\n",
    "y_i &\\sim Normal(\\mu, \\sigma) \\\\\n",
    "\\mu &= \\alpha + \\beta x_i \\\\\n",
    "\\alpha &\\sim Normal(0, 10) \\\\\n",
    "\\beta &\\sim Normal(0,1) \\\\\n",
    "\\sigma &\\sim Exponential(2)\n",
    "\\end{align}\n",
    "\n"
   ]
  },
  {
   "cell_type": "markdown",
   "id": "7cd1d806-f080-4ac2-9a67-c30636c283a5",
   "metadata": {
    "tags": []
   },
   "source": [
    "## Medium"
   ]
  },
  {
   "cell_type": "markdown",
   "id": "eeb0c333-e1d7-4101-8390-44928e5298bf",
   "metadata": {
    "tags": []
   },
   "source": [
    "__4M1__"
   ]
  },
  {
   "cell_type": "code",
   "execution_count": 37,
   "id": "6ad001b8-5fd4-4e3e-a496-9d5bf754ddef",
   "metadata": {},
   "outputs": [],
   "source": [
    "size = 10000\n",
    "sample_mu = stats.norm.rvs(0, 10, size)\n",
    "sample_sigma = stats.expon.rvs(1, size=size)\n",
    "sample_y = stats.norm.rvs(sample_mu, sample_sigma, size)"
   ]
  },
  {
   "cell_type": "code",
   "execution_count": 38,
   "id": "099b9139-7dd7-4b30-83c4-30ffa197a1b8",
   "metadata": {},
   "outputs": [
    {
     "data": {
      "text/plain": [
       "<AxesSubplot:>"
      ]
     },
     "execution_count": 38,
     "metadata": {},
     "output_type": "execute_result"
    },
    {
     "data": {
      "image/png": "[encoded data removed]",
      "text/plain": [
       "<Figure size 432x288 with 1 Axes>"
      ]
     },
     "metadata": {
      "needs_background": "light"
     },
     "output_type": "display_data"
    }
   ],
   "source": [
    "az.plot_kde(sample_y)"
   ]
  },
  {
   "cell_type": "markdown",
   "id": "06094328-4dd7-4119-9164-be4d489775c5",
   "metadata": {},
   "source": [
    "__4M2__ \n",
    "\n",
    "_Skipping because it is specific to R users._\n",
    "\n",
    "__4M3__\n",
    "\n",
    "\\begin{align}\n",
    "y_i &\\sim Normal(\\mu, sigma) \\\\\n",
    "\\mu &= \\alpha + \\beta x_i \\\\\n",
    "\\alpha &\\sim Normal(0, 10) \\\\\n",
    "\\beta &\\sim Uniform(0, 1) \\\\\n",
    "\\sigma &\\sim Exponential(1)\n",
    "\\end{align}"
   ]
  },
  {
   "cell_type": "code",
   "execution_count": null,
   "id": "68864bcf-49e3-43e9-87cf-8d8d358a3b14",
   "metadata": {},
   "outputs": [],
   "source": []
  }
 ],
 "metadata": {
  "kernelspec": {
   "display_name": "Python 3 (ipykernel)",
   "language": "python",
   "name": "python3"
  },
  "language_info": {
   "codemirror_mode": {
    "name": "ipython",
    "version": 3
   },
   "file_extension": ".py",
   "mimetype": "text/x-python",
   "name": "python",
   "nbconvert_exporter": "python",
   "pygments_lexer": "ipython3",
   "version": "3.9.0"
  }
 },
 "nbformat": 4,
 "nbformat_minor": 5
}
