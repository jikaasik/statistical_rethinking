{
 "cells": [
  {
   "cell_type": "code",
   "execution_count": 1,
   "id": "13b86645-110d-42ad-8000-06411d811a4a",
   "metadata": {},
   "outputs": [],
   "source": [
    "import numpy as np\n",
    "import scipy.stats as stats\n",
    "import matplotlib.pyplot as plt\n",
    "import arviz as az\n",
    "\n",
    "import stan_jupyter as stan\n",
    "import pandas as pd"
   ]
  },
  {
   "cell_type": "code",
   "execution_count": 50,
   "id": "06cdd0c5-bfd5-404a-91a6-ca4ea0826033",
   "metadata": {},
   "outputs": [],
   "source": [
    "def waic(fit):\n",
    "\n",
    "    log_lik = [n.mean() for n in fit['log_lik']]\n",
    "\n",
    "    lppd = np.log(np.exp(log_lik).mean(axis=0)).sum()\n",
    "\n",
    "    p_waic = np.var(log_lik, axis=0).sum()\n",
    "\n",
    "    waic = -2*lppd + 2*p_waic\n",
    "\n",
    "    return round(waic, 3)"
   ]
  },
  {
   "cell_type": "markdown",
   "id": "ff652eb6-76f4-4327-8882-052f5db6ccf9",
   "metadata": {},
   "source": [
    "## Question 1"
   ]
  },
  {
   "cell_type": "markdown",
   "id": "9cd9e47d-8e25-47ba-8b1a-39da11bb0f16",
   "metadata": {},
   "source": [
    "### FROM https://github.com/pymc-devs/resources/blob/master/Rethinking_2/Chp_06.ipynb ###"
   ]
  },
  {
   "cell_type": "code",
   "execution_count": 15,
   "id": "de06b074-4d52-42b4-b37f-9ebef93815da",
   "metadata": {},
   "outputs": [],
   "source": [
    "def inv_logit(x):\n",
    "    return np.exp(x) / (1 + np.exp(x))\n",
    "\n",
    "\n",
    "def sim_happiness(N_years=100, seed=1234):\n",
    "    np.random.seed(seed)\n",
    "\n",
    "    popn = pd.DataFrame(np.zeros((20 * 65, 3)), columns=[\"age\", \"happiness\", \"married\"])\n",
    "    popn.loc[:, \"age\"] = np.repeat(np.arange(65), 20)\n",
    "    popn.loc[:, \"happiness\"] = np.repeat(np.linspace(-2, 2, 20), 65)\n",
    "    popn.loc[:, \"married\"] = np.array(popn.loc[:, \"married\"].values, dtype=\"bool\")\n",
    "\n",
    "    for i in range(N_years):\n",
    "        # age population\n",
    "        popn.loc[:, \"age\"] += 1\n",
    "        # replace old folk with new folk\n",
    "        ind = popn.age == 65\n",
    "        popn.loc[ind, \"age\"] = 0\n",
    "        popn.loc[ind, \"married\"] = False\n",
    "        popn.loc[ind, \"happiness\"] = np.linspace(-2, 2, 20)\n",
    "\n",
    "        # do the work\n",
    "        elligible = (popn.married == 0) & (popn.age >= 18)\n",
    "        marry = np.random.binomial(1, inv_logit(popn.loc[elligible, \"happiness\"] - 4)) == 1\n",
    "        popn.loc[elligible, \"married\"] = marry\n",
    "\n",
    "    popn.sort_values(\"age\", inplace=True, ignore_index=True)\n",
    "\n",
    "    return popn\n",
    "\n"
   ]
  },
  {
   "cell_type": "code",
   "execution_count": 16,
   "id": "b2b60ade-2a00-42a8-a553-d97dfcf1c411",
   "metadata": {},
   "outputs": [
    {
     "data": {
      "text/html": [
       "<div>\n",
       "<style scoped>\n",
       "    .dataframe tbody tr th:only-of-type {\n",
       "        vertical-align: middle;\n",
       "    }\n",
       "\n",
       "    .dataframe tbody tr th {\n",
       "        vertical-align: top;\n",
       "    }\n",
       "\n",
       "    .dataframe thead th {\n",
       "        text-align: right;\n",
       "    }\n",
       "</style>\n",
       "<table border=\"1\" class=\"dataframe\">\n",
       "  <thead>\n",
       "    <tr style=\"text-align: right;\">\n",
       "      <th></th>\n",
       "      <th>mean</th>\n",
       "      <th>sd</th>\n",
       "      <th>hdi_3%</th>\n",
       "      <th>hdi_97%</th>\n",
       "    </tr>\n",
       "  </thead>\n",
       "  <tbody>\n",
       "    <tr>\n",
       "      <th>age</th>\n",
       "      <td>32.00</td>\n",
       "      <td>18.77</td>\n",
       "      <td>0.0</td>\n",
       "      <td>61.00</td>\n",
       "    </tr>\n",
       "    <tr>\n",
       "      <th>happiness</th>\n",
       "      <td>-0.00</td>\n",
       "      <td>1.21</td>\n",
       "      <td>-2.0</td>\n",
       "      <td>1.79</td>\n",
       "    </tr>\n",
       "    <tr>\n",
       "      <th>married</th>\n",
       "      <td>0.28</td>\n",
       "      <td>0.45</td>\n",
       "      <td>0.0</td>\n",
       "      <td>1.00</td>\n",
       "    </tr>\n",
       "  </tbody>\n",
       "</table>\n",
       "</div>"
      ],
      "text/plain": [
       "            mean     sd  hdi_3%  hdi_97%\n",
       "age        32.00  18.77     0.0    61.00\n",
       "happiness  -0.00   1.21    -2.0     1.79\n",
       "married     0.28   0.45     0.0     1.00"
      ]
     },
     "execution_count": 16,
     "metadata": {},
     "output_type": "execute_result"
    }
   ],
   "source": [
    "popn = sim_happiness()\n",
    "\n",
    "df = popn.copy()\n",
    "df[\"married\"] = df[\"married\"].astype(\n",
    "    int\n",
    ")  # this is necessary before using az.summary, which doesn't work with boolean columns.\n",
    "az.summary(df.to_dict(orient=\"list\"), kind=\"stats\", round_to=2)"
   ]
  },
  {
   "cell_type": "markdown",
   "id": "d7398806-8463-49d9-a1b1-8c49fbfb1d86",
   "metadata": {},
   "source": [
    "__Model 6.9__"
   ]
  },
  {
   "cell_type": "code",
   "execution_count": 18,
   "id": "1bf65ba4-912d-4b19-8fdd-db477280dbf6",
   "metadata": {},
   "outputs": [],
   "source": [
    "df.married +=1"
   ]
  },
  {
   "cell_type": "code",
   "execution_count": 55,
   "id": "9878f965-49e6-47ff-ab67-5607309a877a",
   "metadata": {},
   "outputs": [],
   "source": [
    "df = df[df.age>17]\n",
    "df[\"age_adj\"] = (df.age - 18) / (65-18)"
   ]
  },
  {
   "cell_type": "code",
   "execution_count": 85,
   "id": "c9ea47fd-2db3-4852-9e01-17806ecd7ffc",
   "metadata": {},
   "outputs": [],
   "source": [
    "model_data = {\"age\":df.age_adj.tolist(),\n",
    "              \"happiness\":df.happiness.tolist(),\n",
    "              \"mid\":df.married.tolist(),\n",
    "              \"N\":len(df),\n",
    "              \"MIDS\":df.married.nunique()}\n",
    "\n",
    "with open(\"models/w4_1.stan\") as f:\n",
    "    model_code = f.read()"
   ]
  },
  {
   "cell_type": "code",
   "execution_count": 86,
   "id": "b64d3db2-45e8-4079-aaff-af73067959cd",
   "metadata": {
    "tags": []
   },
   "outputs": [],
   "source": [
    "%%capture\n",
    "posterior = stan.build(model_code, model_data)"
   ]
  },
  {
   "cell_type": "code",
   "execution_count": 87,
   "id": "efe04fee-2079-438c-b5ff-b50ef4d84f47",
   "metadata": {},
   "outputs": [],
   "source": [
    "%%capture\n",
    "fit = posterior.sample(num_chains=4, num_samples=1000)"
   ]
  },
  {
   "cell_type": "code",
   "execution_count": 88,
   "id": "34e7833d-7adb-4500-9aff-11928a4c73a9",
   "metadata": {},
   "outputs": [
    {
     "data": {
      "text/html": [
       "<div>\n",
       "<style scoped>\n",
       "    .dataframe tbody tr th:only-of-type {\n",
       "        vertical-align: middle;\n",
       "    }\n",
       "\n",
       "    .dataframe tbody tr th {\n",
       "        vertical-align: top;\n",
       "    }\n",
       "\n",
       "    .dataframe thead th {\n",
       "        text-align: right;\n",
       "    }\n",
       "</style>\n",
       "<table border=\"1\" class=\"dataframe\">\n",
       "  <thead>\n",
       "    <tr style=\"text-align: right;\">\n",
       "      <th></th>\n",
       "      <th>mean</th>\n",
       "      <th>sd</th>\n",
       "      <th>hdi_3%</th>\n",
       "      <th>hdi_97%</th>\n",
       "      <th>mcse_mean</th>\n",
       "      <th>mcse_sd</th>\n",
       "      <th>ess_bulk</th>\n",
       "      <th>ess_tail</th>\n",
       "      <th>r_hat</th>\n",
       "    </tr>\n",
       "  </thead>\n",
       "  <tbody>\n",
       "    <tr>\n",
       "      <th>alpha[0]</th>\n",
       "      <td>-0.200</td>\n",
       "      <td>0.065</td>\n",
       "      <td>-0.323</td>\n",
       "      <td>-0.079</td>\n",
       "      <td>0.002</td>\n",
       "      <td>0.001</td>\n",
       "      <td>1547.0</td>\n",
       "      <td>2337.0</td>\n",
       "      <td>1.0</td>\n",
       "    </tr>\n",
       "    <tr>\n",
       "      <th>alpha[1]</th>\n",
       "      <td>1.216</td>\n",
       "      <td>0.090</td>\n",
       "      <td>1.049</td>\n",
       "      <td>1.384</td>\n",
       "      <td>0.002</td>\n",
       "      <td>0.002</td>\n",
       "      <td>1563.0</td>\n",
       "      <td>2261.0</td>\n",
       "      <td>1.0</td>\n",
       "    </tr>\n",
       "    <tr>\n",
       "      <th>beta</th>\n",
       "      <td>-0.718</td>\n",
       "      <td>0.120</td>\n",
       "      <td>-0.950</td>\n",
       "      <td>-0.502</td>\n",
       "      <td>0.003</td>\n",
       "      <td>0.002</td>\n",
       "      <td>1444.0</td>\n",
       "      <td>1833.0</td>\n",
       "      <td>1.0</td>\n",
       "    </tr>\n",
       "    <tr>\n",
       "      <th>sigma</th>\n",
       "      <td>1.021</td>\n",
       "      <td>0.023</td>\n",
       "      <td>0.979</td>\n",
       "      <td>1.065</td>\n",
       "      <td>0.000</td>\n",
       "      <td>0.000</td>\n",
       "      <td>2472.0</td>\n",
       "      <td>1958.0</td>\n",
       "      <td>1.0</td>\n",
       "    </tr>\n",
       "  </tbody>\n",
       "</table>\n",
       "</div>"
      ],
      "text/plain": [
       "           mean     sd  hdi_3%  hdi_97%  mcse_mean  mcse_sd  ess_bulk  \\\n",
       "alpha[0] -0.200  0.065  -0.323   -0.079      0.002    0.001    1547.0   \n",
       "alpha[1]  1.216  0.090   1.049    1.384      0.002    0.002    1563.0   \n",
       "beta     -0.718  0.120  -0.950   -0.502      0.003    0.002    1444.0   \n",
       "sigma     1.021  0.023   0.979    1.065      0.000    0.000    2472.0   \n",
       "\n",
       "          ess_tail  r_hat  \n",
       "alpha[0]    2337.0    1.0  \n",
       "alpha[1]    2261.0    1.0  \n",
       "beta        1833.0    1.0  \n",
       "sigma       1958.0    1.0  "
      ]
     },
     "execution_count": 88,
     "metadata": {},
     "output_type": "execute_result"
    }
   ],
   "source": [
    "az.summary(fit)[0:4]"
   ]
  },
  {
   "cell_type": "code",
   "execution_count": 89,
   "id": "c409d50d-5e7c-454c-8a7a-4f987fb30799",
   "metadata": {},
   "outputs": [],
   "source": [
    "m6_9 = az.from_pystan(fit, log_likelihood=\"log_lik\")"
   ]
  },
  {
   "cell_type": "markdown",
   "id": "a9937f63-4d0c-42c2-b9b6-248133d37027",
   "metadata": {},
   "source": [
    "__Model 6.10__"
   ]
  },
  {
   "cell_type": "code",
   "execution_count": 90,
   "id": "277086ba-c12a-4850-8619-e14e5f295d27",
   "metadata": {},
   "outputs": [],
   "source": [
    "model_data = {\"age\":df.age_adj.tolist(),\n",
    "              \"happiness\":df.happiness.tolist(),\n",
    "              \"N\":len(df)}\n",
    "\n",
    "with open(\"models/w4_1b.stan\") as f:\n",
    "    model_code = f.read()"
   ]
  },
  {
   "cell_type": "code",
   "execution_count": 91,
   "id": "0310acc9-a6ec-4920-9bd3-1b1208f7a8bc",
   "metadata": {},
   "outputs": [],
   "source": [
    "%%capture\n",
    "posterior = stan.build(model_code, model_data)"
   ]
  },
  {
   "cell_type": "code",
   "execution_count": 92,
   "id": "9a0d4334-bf6f-4837-9c9c-86666701457f",
   "metadata": {},
   "outputs": [],
   "source": [
    "%%capture\n",
    "fit = posterior.sample(num_chains=4, num_samples=1000)"
   ]
  },
  {
   "cell_type": "code",
   "execution_count": 93,
   "id": "a517bb52-9bbf-4e2a-897b-e9789b817192",
   "metadata": {},
   "outputs": [
    {
     "data": {
      "text/html": [
       "<div>\n",
       "<style scoped>\n",
       "    .dataframe tbody tr th:only-of-type {\n",
       "        vertical-align: middle;\n",
       "    }\n",
       "\n",
       "    .dataframe tbody tr th {\n",
       "        vertical-align: top;\n",
       "    }\n",
       "\n",
       "    .dataframe thead th {\n",
       "        text-align: right;\n",
       "    }\n",
       "</style>\n",
       "<table border=\"1\" class=\"dataframe\">\n",
       "  <thead>\n",
       "    <tr style=\"text-align: right;\">\n",
       "      <th></th>\n",
       "      <th>mean</th>\n",
       "      <th>sd</th>\n",
       "      <th>hdi_3%</th>\n",
       "      <th>hdi_97%</th>\n",
       "      <th>mcse_mean</th>\n",
       "      <th>mcse_sd</th>\n",
       "      <th>ess_bulk</th>\n",
       "      <th>ess_tail</th>\n",
       "      <th>r_hat</th>\n",
       "    </tr>\n",
       "  </thead>\n",
       "  <tbody>\n",
       "    <tr>\n",
       "      <th>alpha</th>\n",
       "      <td>-0.001</td>\n",
       "      <td>0.077</td>\n",
       "      <td>-0.139</td>\n",
       "      <td>0.150</td>\n",
       "      <td>0.002</td>\n",
       "      <td>0.001</td>\n",
       "      <td>1699.0</td>\n",
       "      <td>1942.0</td>\n",
       "      <td>1.0</td>\n",
       "    </tr>\n",
       "    <tr>\n",
       "      <th>beta</th>\n",
       "      <td>0.003</td>\n",
       "      <td>0.135</td>\n",
       "      <td>-0.238</td>\n",
       "      <td>0.270</td>\n",
       "      <td>0.003</td>\n",
       "      <td>0.002</td>\n",
       "      <td>1734.0</td>\n",
       "      <td>2101.0</td>\n",
       "      <td>1.0</td>\n",
       "    </tr>\n",
       "    <tr>\n",
       "      <th>sigma</th>\n",
       "      <td>1.216</td>\n",
       "      <td>0.028</td>\n",
       "      <td>1.161</td>\n",
       "      <td>1.267</td>\n",
       "      <td>0.001</td>\n",
       "      <td>0.000</td>\n",
       "      <td>2212.0</td>\n",
       "      <td>1905.0</td>\n",
       "      <td>1.0</td>\n",
       "    </tr>\n",
       "  </tbody>\n",
       "</table>\n",
       "</div>"
      ],
      "text/plain": [
       "        mean     sd  hdi_3%  hdi_97%  mcse_mean  mcse_sd  ess_bulk  ess_tail  \\\n",
       "alpha -0.001  0.077  -0.139    0.150      0.002    0.001    1699.0    1942.0   \n",
       "beta   0.003  0.135  -0.238    0.270      0.003    0.002    1734.0    2101.0   \n",
       "sigma  1.216  0.028   1.161    1.267      0.001    0.000    2212.0    1905.0   \n",
       "\n",
       "       r_hat  \n",
       "alpha    1.0  \n",
       "beta     1.0  \n",
       "sigma    1.0  "
      ]
     },
     "execution_count": 93,
     "metadata": {},
     "output_type": "execute_result"
    }
   ],
   "source": [
    "az.summary(fit)[0:3]"
   ]
  },
  {
   "cell_type": "code",
   "execution_count": 94,
   "id": "01fc6b7e-e237-41f8-a991-b7a0b964e8ea",
   "metadata": {},
   "outputs": [],
   "source": [
    "m6_10 = az.from_pystan(fit, log_likelihood=\"log_lik\")"
   ]
  },
  {
   "cell_type": "code",
   "execution_count": 98,
   "id": "5162b5f1-e13a-4d35-8892-f6aa92f3fdd9",
   "metadata": {},
   "outputs": [
    {
     "name": "stderr",
     "output_type": "stream",
     "text": [
      "/Users/jikaasik/miniconda/lib/python3.9/site-packages/arviz/stats/stats.py:145: UserWarning: The default method used to estimate the weights for each model,has changed from BB-pseudo-BMA to stacking\n",
      "  warnings.warn(\n"
     ]
    },
    {
     "data": {
      "text/html": [
       "<div>\n",
       "<style scoped>\n",
       "    .dataframe tbody tr th:only-of-type {\n",
       "        vertical-align: middle;\n",
       "    }\n",
       "\n",
       "    .dataframe tbody tr th {\n",
       "        vertical-align: top;\n",
       "    }\n",
       "\n",
       "    .dataframe thead th {\n",
       "        text-align: right;\n",
       "    }\n",
       "</style>\n",
       "<table border=\"1\" class=\"dataframe\">\n",
       "  <thead>\n",
       "    <tr style=\"text-align: right;\">\n",
       "      <th></th>\n",
       "      <th>rank</th>\n",
       "      <th>loo</th>\n",
       "      <th>p_loo</th>\n",
       "      <th>d_loo</th>\n",
       "      <th>weight</th>\n",
       "      <th>se</th>\n",
       "      <th>dse</th>\n",
       "      <th>warning</th>\n",
       "      <th>loo_scale</th>\n",
       "    </tr>\n",
       "  </thead>\n",
       "  <tbody>\n",
       "    <tr>\n",
       "      <th>with marriage ID</th>\n",
       "      <td>0</td>\n",
       "      <td>-1355.379693</td>\n",
       "      <td>3.547407</td>\n",
       "      <td>0.000000</td>\n",
       "      <td>0.979123</td>\n",
       "      <td>18.658002</td>\n",
       "      <td>0.00000</td>\n",
       "      <td>False</td>\n",
       "      <td>log</td>\n",
       "    </tr>\n",
       "    <tr>\n",
       "      <th>pooled</th>\n",
       "      <td>1</td>\n",
       "      <td>-1518.741901</td>\n",
       "      <td>2.381088</td>\n",
       "      <td>163.362207</td>\n",
       "      <td>0.020877</td>\n",
       "      <td>13.670496</td>\n",
       "      <td>16.52657</td>\n",
       "      <td>False</td>\n",
       "      <td>log</td>\n",
       "    </tr>\n",
       "  </tbody>\n",
       "</table>\n",
       "</div>"
      ],
      "text/plain": [
       "                  rank          loo     p_loo       d_loo    weight  \\\n",
       "with marriage ID     0 -1355.379693  3.547407    0.000000  0.979123   \n",
       "pooled               1 -1518.741901  2.381088  163.362207  0.020877   \n",
       "\n",
       "                         se       dse  warning loo_scale  \n",
       "with marriage ID  18.658002   0.00000    False       log  \n",
       "pooled            13.670496  16.52657    False       log  "
      ]
     },
     "execution_count": 98,
     "metadata": {},
     "output_type": "execute_result"
    }
   ],
   "source": [
    "compare_dict = {\"with marriage ID\": m6_9, \"pooled\": m6_10}\n",
    "az.compare(compare_dict)"
   ]
  },
  {
   "cell_type": "code",
   "execution_count": 99,
   "id": "64fe7648-c71e-4bbf-9ab8-8e097f6769d6",
   "metadata": {},
   "outputs": [
    {
     "name": "stderr",
     "output_type": "stream",
     "text": [
      "/Users/jikaasik/miniconda/lib/python3.9/site-packages/arviz/stats/stats.py:145: UserWarning: The default method used to estimate the weights for each model,has changed from BB-pseudo-BMA to stacking\n",
      "  warnings.warn(\n"
     ]
    },
    {
     "data": {
      "text/html": [
       "<div>\n",
       "<style scoped>\n",
       "    .dataframe tbody tr th:only-of-type {\n",
       "        vertical-align: middle;\n",
       "    }\n",
       "\n",
       "    .dataframe tbody tr th {\n",
       "        vertical-align: top;\n",
       "    }\n",
       "\n",
       "    .dataframe thead th {\n",
       "        text-align: right;\n",
       "    }\n",
       "</style>\n",
       "<table border=\"1\" class=\"dataframe\">\n",
       "  <thead>\n",
       "    <tr style=\"text-align: right;\">\n",
       "      <th></th>\n",
       "      <th>rank</th>\n",
       "      <th>waic</th>\n",
       "      <th>p_waic</th>\n",
       "      <th>d_waic</th>\n",
       "      <th>weight</th>\n",
       "      <th>se</th>\n",
       "      <th>dse</th>\n",
       "      <th>warning</th>\n",
       "      <th>waic_scale</th>\n",
       "    </tr>\n",
       "  </thead>\n",
       "  <tbody>\n",
       "    <tr>\n",
       "      <th>with marriage ID</th>\n",
       "      <td>0</td>\n",
       "      <td>-1355.379619</td>\n",
       "      <td>3.547333</td>\n",
       "      <td>0.000000</td>\n",
       "      <td>0.979122</td>\n",
       "      <td>18.658001</td>\n",
       "      <td>0.000000</td>\n",
       "      <td>False</td>\n",
       "      <td>log</td>\n",
       "    </tr>\n",
       "    <tr>\n",
       "      <th>pooled</th>\n",
       "      <td>1</td>\n",
       "      <td>-1518.741791</td>\n",
       "      <td>2.380979</td>\n",
       "      <td>163.362172</td>\n",
       "      <td>0.020878</td>\n",
       "      <td>13.670492</td>\n",
       "      <td>16.526572</td>\n",
       "      <td>False</td>\n",
       "      <td>log</td>\n",
       "    </tr>\n",
       "  </tbody>\n",
       "</table>\n",
       "</div>"
      ],
      "text/plain": [
       "                  rank         waic    p_waic      d_waic    weight  \\\n",
       "with marriage ID     0 -1355.379619  3.547333    0.000000  0.979122   \n",
       "pooled               1 -1518.741791  2.380979  163.362172  0.020878   \n",
       "\n",
       "                         se        dse  warning waic_scale  \n",
       "with marriage ID  18.658001   0.000000    False        log  \n",
       "pooled            13.670492  16.526572    False        log  "
      ]
     },
     "execution_count": 99,
     "metadata": {},
     "output_type": "execute_result"
    }
   ],
   "source": [
    "az.compare(compare_dict, ic=\"waic\")"
   ]
  },
  {
   "cell_type": "markdown",
   "id": "221f8c63-b572-4919-8459-287b3cec6cfa",
   "metadata": {},
   "source": [
    "According to the WAIC and PSIS values, the model that differentiates between married and unmarried observations should make better out-of-sample predictions. \n",
    "\n",
    "The model believes that someone at the minimum age in the sample (18) is considerably more likely to be happy if they are married. Both married and unmarried individuals become less happy as they age. "
   ]
  },
  {
   "cell_type": "markdown",
   "id": "10b1109d-668e-4d4a-a1f7-7bba37bc4413",
   "metadata": {},
   "source": [
    "## Question 2"
   ]
  },
  {
   "cell_type": "code",
   "execution_count": 108,
   "id": "b77a6f40-9543-4b10-87b0-5da4dbaa422b",
   "metadata": {},
   "outputs": [],
   "source": [
    "df = pd.read_csv(\"../data/foxes.csv\", delimiter=\";\")\n",
    "\n",
    "df[\"std_food\"] = (df.avgfood - df.avgfood.mean()) / df.avgfood.std()\n",
    "\n",
    "model_data = {\"N\":len(df),\n",
    "              \"weight\":df.weight.tolist(),\n",
    "              \"food\":df.std_food.tolist()}\n",
    "\n",
    "with open(\"models/w4_2.stan\") as f:\n",
    "    model_code = f.read()"
   ]
  },
  {
   "cell_type": "code",
   "execution_count": 110,
   "id": "425fcba3-f2db-494c-81ad-c17413c6c2b5",
   "metadata": {},
   "outputs": [],
   "source": [
    "%%capture\n",
    "posterior = stan.build(model_code, model_data)"
   ]
  },
  {
   "cell_type": "code",
   "execution_count": 111,
   "id": "73644e8f-a48b-4cc1-97e0-7eded082d851",
   "metadata": {},
   "outputs": [],
   "source": [
    "%%capture\n",
    "fit = posterior.sample(num_chains=4, num_samples=1000)"
   ]
  },
  {
   "cell_type": "code",
   "execution_count": 112,
   "id": "2c569c0b-67ed-4b83-b5c6-e2462ea0d17f",
   "metadata": {},
   "outputs": [],
   "source": [
    "m4_2 = az.from_pystan(fit, log_likelihood=\"log_lik\")"
   ]
  },
  {
   "cell_type": "code",
   "execution_count": 114,
   "id": "8df4b57a-d218-4e28-8748-b60313b122da",
   "metadata": {},
   "outputs": [],
   "source": [
    "df[\"std_groupsize\"] = (df.groupsize - df.groupsize.mean()) / df.groupsize.std()\n",
    "\n",
    "model_data = {\"N\":len(df),\n",
    "              \"weight\":df.weight.tolist(),\n",
    "              \"food\":df.std_food.tolist(),\n",
    "              \"group_size\":df.std_groupsize.tolist()}\n",
    "\n",
    "with open(\"models/w4_2b.stan\") as f:\n",
    "    model_code = f.read()"
   ]
  },
  {
   "cell_type": "code",
   "execution_count": 116,
   "id": "e580ed28-eb26-420a-ba92-dd959a2e5881",
   "metadata": {},
   "outputs": [],
   "source": [
    "%%capture\n",
    "posterior = stan.build(model_code, model_data)"
   ]
  },
  {
   "cell_type": "code",
   "execution_count": 117,
   "id": "c3328d7e-9a72-4fcb-8116-417cef594650",
   "metadata": {},
   "outputs": [],
   "source": [
    "%%capture\n",
    "fit = posterior.sample(num_chains=4, num_samples=1000)"
   ]
  },
  {
   "cell_type": "code",
   "execution_count": 118,
   "id": "2cd5b30f-06f5-4ca0-b02c-d648e28ee23f",
   "metadata": {},
   "outputs": [],
   "source": [
    "m4_2b = az.from_pystan(fit, log_likelihood=\"log_lik\")"
   ]
  },
  {
   "cell_type": "code",
   "execution_count": 121,
   "id": "441bec1a-9075-4b12-92b1-95e70f3f6a89",
   "metadata": {},
   "outputs": [
    {
     "name": "stderr",
     "output_type": "stream",
     "text": [
      "/Users/jikaasik/miniconda/lib/python3.9/site-packages/arviz/stats/stats.py:145: UserWarning: The default method used to estimate the weights for each model,has changed from BB-pseudo-BMA to stacking\n",
      "  warnings.warn(\n"
     ]
    },
    {
     "data": {
      "text/html": [
       "<div>\n",
       "<style scoped>\n",
       "    .dataframe tbody tr th:only-of-type {\n",
       "        vertical-align: middle;\n",
       "    }\n",
       "\n",
       "    .dataframe tbody tr th {\n",
       "        vertical-align: top;\n",
       "    }\n",
       "\n",
       "    .dataframe thead th {\n",
       "        text-align: right;\n",
       "    }\n",
       "</style>\n",
       "<table border=\"1\" class=\"dataframe\">\n",
       "  <thead>\n",
       "    <tr style=\"text-align: right;\">\n",
       "      <th></th>\n",
       "      <th>rank</th>\n",
       "      <th>loo</th>\n",
       "      <th>p_loo</th>\n",
       "      <th>d_loo</th>\n",
       "      <th>weight</th>\n",
       "      <th>se</th>\n",
       "      <th>dse</th>\n",
       "      <th>warning</th>\n",
       "      <th>loo_scale</th>\n",
       "    </tr>\n",
       "  </thead>\n",
       "  <tbody>\n",
       "    <tr>\n",
       "      <th>Stratified by group size</th>\n",
       "      <td>0</td>\n",
       "      <td>-181.302510</td>\n",
       "      <td>3.688649</td>\n",
       "      <td>0.000000</td>\n",
       "      <td>0.874428</td>\n",
       "      <td>7.866228</td>\n",
       "      <td>0.000000</td>\n",
       "      <td>False</td>\n",
       "      <td>log</td>\n",
       "    </tr>\n",
       "    <tr>\n",
       "      <th>Pooled</th>\n",
       "      <td>1</td>\n",
       "      <td>-186.473301</td>\n",
       "      <td>2.513736</td>\n",
       "      <td>5.170791</td>\n",
       "      <td>0.125572</td>\n",
       "      <td>6.674532</td>\n",
       "      <td>3.647028</td>\n",
       "      <td>False</td>\n",
       "      <td>log</td>\n",
       "    </tr>\n",
       "  </tbody>\n",
       "</table>\n",
       "</div>"
      ],
      "text/plain": [
       "                          rank         loo     p_loo     d_loo    weight  \\\n",
       "Stratified by group size     0 -181.302510  3.688649  0.000000  0.874428   \n",
       "Pooled                       1 -186.473301  2.513736  5.170791  0.125572   \n",
       "\n",
       "                                se       dse  warning loo_scale  \n",
       "Stratified by group size  7.866228  0.000000    False       log  \n",
       "Pooled                    6.674532  3.647028    False       log  "
      ]
     },
     "execution_count": 121,
     "metadata": {},
     "output_type": "execute_result"
    }
   ],
   "source": [
    "compare_dict = {\"Pooled\": m4_2, \"Stratified by group size\": m4_2b}\n",
    "az.compare(compare_dict)"
   ]
  },
  {
   "cell_type": "code",
   "execution_count": 122,
   "id": "9d227963-1f06-484d-a8c3-550ca9519e91",
   "metadata": {},
   "outputs": [
    {
     "name": "stderr",
     "output_type": "stream",
     "text": [
      "/Users/jikaasik/miniconda/lib/python3.9/site-packages/arviz/stats/stats.py:145: UserWarning: The default method used to estimate the weights for each model,has changed from BB-pseudo-BMA to stacking\n",
      "  warnings.warn(\n",
      "/Users/jikaasik/miniconda/lib/python3.9/site-packages/arviz/stats/stats.py:1405: UserWarning: For one or more samples the posterior variance of the log predictive densities exceeds 0.4. This could be indication of WAIC starting to fail. \n",
      "See http://arxiv.org/abs/1507.04544 for details\n",
      "  warnings.warn(\n"
     ]
    },
    {
     "data": {
      "text/html": [
       "<div>\n",
       "<style scoped>\n",
       "    .dataframe tbody tr th:only-of-type {\n",
       "        vertical-align: middle;\n",
       "    }\n",
       "\n",
       "    .dataframe tbody tr th {\n",
       "        vertical-align: top;\n",
       "    }\n",
       "\n",
       "    .dataframe thead th {\n",
       "        text-align: right;\n",
       "    }\n",
       "</style>\n",
       "<table border=\"1\" class=\"dataframe\">\n",
       "  <thead>\n",
       "    <tr style=\"text-align: right;\">\n",
       "      <th></th>\n",
       "      <th>rank</th>\n",
       "      <th>waic</th>\n",
       "      <th>p_waic</th>\n",
       "      <th>d_waic</th>\n",
       "      <th>weight</th>\n",
       "      <th>se</th>\n",
       "      <th>dse</th>\n",
       "      <th>warning</th>\n",
       "      <th>waic_scale</th>\n",
       "    </tr>\n",
       "  </thead>\n",
       "  <tbody>\n",
       "    <tr>\n",
       "      <th>Stratified by group size</th>\n",
       "      <td>0</td>\n",
       "      <td>-181.288785</td>\n",
       "      <td>3.674924</td>\n",
       "      <td>0.000000</td>\n",
       "      <td>0.875427</td>\n",
       "      <td>7.862314</td>\n",
       "      <td>0.000000</td>\n",
       "      <td>True</td>\n",
       "      <td>log</td>\n",
       "    </tr>\n",
       "    <tr>\n",
       "      <th>Pooled</th>\n",
       "      <td>1</td>\n",
       "      <td>-186.470497</td>\n",
       "      <td>2.510932</td>\n",
       "      <td>5.181712</td>\n",
       "      <td>0.124573</td>\n",
       "      <td>6.674125</td>\n",
       "      <td>3.644015</td>\n",
       "      <td>False</td>\n",
       "      <td>log</td>\n",
       "    </tr>\n",
       "  </tbody>\n",
       "</table>\n",
       "</div>"
      ],
      "text/plain": [
       "                          rank        waic    p_waic    d_waic    weight  \\\n",
       "Stratified by group size     0 -181.288785  3.674924  0.000000  0.875427   \n",
       "Pooled                       1 -186.470497  2.510932  5.181712  0.124573   \n",
       "\n",
       "                                se       dse  warning waic_scale  \n",
       "Stratified by group size  7.862314  0.000000     True        log  \n",
       "Pooled                    6.674125  3.644015    False        log  "
      ]
     },
     "execution_count": 122,
     "metadata": {},
     "output_type": "execute_result"
    }
   ],
   "source": [
    "az.compare(compare_dict, ic=\"waic\")"
   ]
  },
  {
   "cell_type": "code",
   "execution_count": 124,
   "id": "91403072-ebc7-42ec-a4b9-899780ddff18",
   "metadata": {},
   "outputs": [
    {
     "data": {
      "text/html": [
       "<div>\n",
       "<style scoped>\n",
       "    .dataframe tbody tr th:only-of-type {\n",
       "        vertical-align: middle;\n",
       "    }\n",
       "\n",
       "    .dataframe tbody tr th {\n",
       "        vertical-align: top;\n",
       "    }\n",
       "\n",
       "    .dataframe thead th {\n",
       "        text-align: right;\n",
       "    }\n",
       "</style>\n",
       "<table border=\"1\" class=\"dataframe\">\n",
       "  <thead>\n",
       "    <tr style=\"text-align: right;\">\n",
       "      <th></th>\n",
       "      <th>mean</th>\n",
       "      <th>sd</th>\n",
       "      <th>hdi_3%</th>\n",
       "      <th>hdi_97%</th>\n",
       "      <th>mcse_mean</th>\n",
       "      <th>mcse_sd</th>\n",
       "      <th>ess_bulk</th>\n",
       "      <th>ess_tail</th>\n",
       "      <th>r_hat</th>\n",
       "    </tr>\n",
       "  </thead>\n",
       "  <tbody>\n",
       "    <tr>\n",
       "      <th>alpha</th>\n",
       "      <td>4.524</td>\n",
       "      <td>0.104</td>\n",
       "      <td>4.323</td>\n",
       "      <td>4.716</td>\n",
       "      <td>0.002</td>\n",
       "      <td>0.001</td>\n",
       "      <td>3250.0</td>\n",
       "      <td>2549.0</td>\n",
       "      <td>1.0</td>\n",
       "    </tr>\n",
       "    <tr>\n",
       "      <th>beta</th>\n",
       "      <td>0.681</td>\n",
       "      <td>0.234</td>\n",
       "      <td>0.252</td>\n",
       "      <td>1.117</td>\n",
       "      <td>0.005</td>\n",
       "      <td>0.003</td>\n",
       "      <td>2501.0</td>\n",
       "      <td>2313.0</td>\n",
       "      <td>1.0</td>\n",
       "    </tr>\n",
       "    <tr>\n",
       "      <th>gamma</th>\n",
       "      <td>-0.796</td>\n",
       "      <td>0.231</td>\n",
       "      <td>-1.213</td>\n",
       "      <td>-0.358</td>\n",
       "      <td>0.005</td>\n",
       "      <td>0.003</td>\n",
       "      <td>2545.0</td>\n",
       "      <td>2476.0</td>\n",
       "      <td>1.0</td>\n",
       "    </tr>\n",
       "    <tr>\n",
       "      <th>sigma</th>\n",
       "      <td>1.138</td>\n",
       "      <td>0.076</td>\n",
       "      <td>0.993</td>\n",
       "      <td>1.274</td>\n",
       "      <td>0.001</td>\n",
       "      <td>0.001</td>\n",
       "      <td>2895.0</td>\n",
       "      <td>2242.0</td>\n",
       "      <td>1.0</td>\n",
       "    </tr>\n",
       "    <tr>\n",
       "      <th>mu[0]</th>\n",
       "      <td>4.427</td>\n",
       "      <td>0.230</td>\n",
       "      <td>4.008</td>\n",
       "      <td>4.880</td>\n",
       "      <td>0.004</td>\n",
       "      <td>0.003</td>\n",
       "      <td>3760.0</td>\n",
       "      <td>3449.0</td>\n",
       "      <td>1.0</td>\n",
       "    </tr>\n",
       "    <tr>\n",
       "      <th>...</th>\n",
       "      <td>...</td>\n",
       "      <td>...</td>\n",
       "      <td>...</td>\n",
       "      <td>...</td>\n",
       "      <td>...</td>\n",
       "      <td>...</td>\n",
       "      <td>...</td>\n",
       "      <td>...</td>\n",
       "      <td>...</td>\n",
       "    </tr>\n",
       "    <tr>\n",
       "      <th>log_lik[111]</th>\n",
       "      <td>-1.110</td>\n",
       "      <td>0.069</td>\n",
       "      <td>-1.243</td>\n",
       "      <td>-0.987</td>\n",
       "      <td>0.001</td>\n",
       "      <td>0.001</td>\n",
       "      <td>2824.0</td>\n",
       "      <td>2230.0</td>\n",
       "      <td>1.0</td>\n",
       "    </tr>\n",
       "    <tr>\n",
       "      <th>log_lik[112]</th>\n",
       "      <td>-1.142</td>\n",
       "      <td>0.069</td>\n",
       "      <td>-1.272</td>\n",
       "      <td>-1.016</td>\n",
       "      <td>0.001</td>\n",
       "      <td>0.001</td>\n",
       "      <td>3089.0</td>\n",
       "      <td>2557.0</td>\n",
       "      <td>1.0</td>\n",
       "    </tr>\n",
       "    <tr>\n",
       "      <th>log_lik[113]</th>\n",
       "      <td>-1.379</td>\n",
       "      <td>0.186</td>\n",
       "      <td>-1.712</td>\n",
       "      <td>-1.050</td>\n",
       "      <td>0.003</td>\n",
       "      <td>0.003</td>\n",
       "      <td>3035.0</td>\n",
       "      <td>3244.0</td>\n",
       "      <td>1.0</td>\n",
       "    </tr>\n",
       "    <tr>\n",
       "      <th>log_lik[114]</th>\n",
       "      <td>-1.699</td>\n",
       "      <td>0.260</td>\n",
       "      <td>-2.181</td>\n",
       "      <td>-1.244</td>\n",
       "      <td>0.005</td>\n",
       "      <td>0.003</td>\n",
       "      <td>3046.0</td>\n",
       "      <td>3205.0</td>\n",
       "      <td>1.0</td>\n",
       "    </tr>\n",
       "    <tr>\n",
       "      <th>log_lik[115]</th>\n",
       "      <td>-1.085</td>\n",
       "      <td>0.083</td>\n",
       "      <td>-1.243</td>\n",
       "      <td>-0.936</td>\n",
       "      <td>0.002</td>\n",
       "      <td>0.001</td>\n",
       "      <td>2709.0</td>\n",
       "      <td>2859.0</td>\n",
       "      <td>1.0</td>\n",
       "    </tr>\n",
       "  </tbody>\n",
       "</table>\n",
       "<p>236 rows × 9 columns</p>\n",
       "</div>"
      ],
      "text/plain": [
       "               mean     sd  hdi_3%  hdi_97%  mcse_mean  mcse_sd  ess_bulk  \\\n",
       "alpha         4.524  0.104   4.323    4.716      0.002    0.001    3250.0   \n",
       "beta          0.681  0.234   0.252    1.117      0.005    0.003    2501.0   \n",
       "gamma        -0.796  0.231  -1.213   -0.358      0.005    0.003    2545.0   \n",
       "sigma         1.138  0.076   0.993    1.274      0.001    0.001    2895.0   \n",
       "mu[0]         4.427  0.230   4.008    4.880      0.004    0.003    3760.0   \n",
       "...             ...    ...     ...      ...        ...      ...       ...   \n",
       "log_lik[111] -1.110  0.069  -1.243   -0.987      0.001    0.001    2824.0   \n",
       "log_lik[112] -1.142  0.069  -1.272   -1.016      0.001    0.001    3089.0   \n",
       "log_lik[113] -1.379  0.186  -1.712   -1.050      0.003    0.003    3035.0   \n",
       "log_lik[114] -1.699  0.260  -2.181   -1.244      0.005    0.003    3046.0   \n",
       "log_lik[115] -1.085  0.083  -1.243   -0.936      0.002    0.001    2709.0   \n",
       "\n",
       "              ess_tail  r_hat  \n",
       "alpha           2549.0    1.0  \n",
       "beta            2313.0    1.0  \n",
       "gamma           2476.0    1.0  \n",
       "sigma           2242.0    1.0  \n",
       "mu[0]           3449.0    1.0  \n",
       "...                ...    ...  \n",
       "log_lik[111]    2230.0    1.0  \n",
       "log_lik[112]    2557.0    1.0  \n",
       "log_lik[113]    3244.0    1.0  \n",
       "log_lik[114]    3205.0    1.0  \n",
       "log_lik[115]    2859.0    1.0  \n",
       "\n",
       "[236 rows x 9 columns]"
      ]
     },
     "execution_count": 124,
     "metadata": {},
     "output_type": "execute_result"
    }
   ],
   "source": [
    "az.summary(m4_2b)"
   ]
  },
  {
   "cell_type": "markdown",
   "id": "9a6d387b-12c8-459a-897e-f659bb4304b8",
   "metadata": {},
   "source": [
    "In this case, the model that stratifies by group size will be a better out-of-sample predictor according to both information criteria. Since both predictors are standardized, the intercept `alpha` represents expected weight when both predictors are at their mean values. The beta coefficient means a standard deviation change in the average quantity of food available corresponds to an expected weight of +.68 units. The gamma coefficient means that a standard deviation change in group size corresponds to an expected weight of -.8 units. The standard deviations for both parameters are quite large, which suggests the model is not particularly certain about the magnitude of the effects, though it is quite certain about the direction."
   ]
  },
  {
   "cell_type": "markdown",
   "id": "f03171f2-e70b-404e-87fc-fc828d9e698f",
   "metadata": {},
   "source": [
    "## Question 3"
   ]
  },
  {
   "cell_type": "code",
   "execution_count": null,
   "id": "57085258-608c-4cbd-bba1-de407bb58021",
   "metadata": {},
   "outputs": [],
   "source": []
  }
 ],
 "metadata": {
  "kernelspec": {
   "display_name": "Python 3 (ipykernel)",
   "language": "python",
   "name": "python3"
  },
  "language_info": {
   "codemirror_mode": {
    "name": "ipython",
    "version": 3
   },
   "file_extension": ".py",
   "mimetype": "text/x-python",
   "name": "python",
   "nbconvert_exporter": "python",
   "pygments_lexer": "ipython3",
   "version": "3.9.0"
  }
 },
 "nbformat": 4,
 "nbformat_minor": 5
}
