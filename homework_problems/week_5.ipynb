{
 "cells": [
  {
   "cell_type": "code",
   "execution_count": 57,
   "id": "d4a567e6-81bf-492a-932f-33741aa17055",
   "metadata": {},
   "outputs": [],
   "source": [
    "import numpy as np\n",
    "import scipy.stats as stats\n",
    "import matplotlib.pyplot as plt\n",
    "import arviz as az\n",
    "import pandas as pd\n",
    "from scipy.special import expit as logistic\n",
    "\n",
    "import stan_jupyter as stan\n"
   ]
  },
  {
   "cell_type": "markdown",
   "id": "d181fb64-a10e-4f9b-b1d2-f0ab4ed1de80",
   "metadata": {},
   "source": [
    "## Question 1\n",
    "\n",
    "__The data in data(NWOGrants) are outcomes for scientific funding applications for the Netherlands Organization for Scientific Research (NWO) from 2010–2012. \n",
    "These data have avery similar structure to the UCBAdmit data discussed in Chapter 11.__\n",
    "\n",
    "- Draw a DAG for this sample and then use one or more binomial GLMs to estimate the TOTAL\n",
    "causal effect of gender on grant awards."
   ]
  },
  {
   "cell_type": "code",
   "execution_count": 73,
   "id": "d4b2d431-5d28-4e9e-9ec8-f231cac60a1f",
   "metadata": {},
   "outputs": [],
   "source": [
    "df = pd.read_csv(\"../data/NWOGrants.csv\", delimiter=\";\")"
   ]
  },
  {
   "cell_type": "code",
   "execution_count": 74,
   "id": "0abbbf33-d958-4db4-86c3-623c451ce0e8",
   "metadata": {},
   "outputs": [],
   "source": [
    "df[\"gender_num\"] = df.groupby(\"gender\").ngroup() + 1\n",
    "df[\"discipline_num\"] = df.groupby(\"discipline\").ngroup() + 1"
   ]
  },
  {
   "cell_type": "code",
   "execution_count": 75,
   "id": "40f54a32-ed36-418f-acff-9e8d234cfabc",
   "metadata": {},
   "outputs": [],
   "source": [
    "with open('models/w5_1.stan') as f:\n",
    "    model_code = f.read()\n",
    "    \n",
    "model_data = {\"N\": len(df),\n",
    "              \"N_GENDERS\": df.gender_num.nunique(),\n",
    "              \"gender\": df.gender_num.tolist(),\n",
    "              \"awards\": df.awards.tolist(),\n",
    "              \"applications\": df.applications.tolist()}"
   ]
  },
  {
   "cell_type": "code",
   "execution_count": 76,
   "id": "860e46d1-0a82-4a4d-b656-ac8383f5cb75",
   "metadata": {},
   "outputs": [],
   "source": [
    "%%capture\n",
    "posterior = stan.build(model_code, model_data)"
   ]
  },
  {
   "cell_type": "code",
   "execution_count": 77,
   "id": "dac00b5a-8e84-446a-a69f-2c918b86bad9",
   "metadata": {},
   "outputs": [],
   "source": [
    "%%capture\n",
    "fit = posterior.sample(num_chains=4, num_samples=10000)"
   ]
  },
  {
   "cell_type": "code",
   "execution_count": 78,
   "id": "6dd2e91a-361a-41b3-b276-c82a5786467e",
   "metadata": {},
   "outputs": [
    {
     "data": {
      "text/plain": [
       "-0.20439080735317974"
      ]
     },
     "execution_count": 78,
     "metadata": {},
     "output_type": "execute_result"
    }
   ],
   "source": [
    "np.mean(fit['a_gender'][0] - fit['a_gender'][1])"
   ]
  },
  {
   "cell_type": "code",
   "execution_count": 79,
   "id": "cb5705be-8daa-4a41-a309-bd1969826852",
   "metadata": {},
   "outputs": [
    {
     "name": "stdout",
     "output_type": "stream",
     "text": [
      "P(award | male_applicant) =  0.15\n",
      "P(award | female_applicant) =  0.178\n",
      "On average, P(award | male_candidate) is  0.028 lower than P(award | female candidate)\n"
     ]
    }
   ],
   "source": [
    "print(\"P(award | male_applicant) = \", round(np.mean(logistic(fit['a_gender'][0])), 3))\n",
    "print(\"P(award | female_applicant) = \", round(np.mean(logistic(fit['a_gender'][1])), 3))\n",
    "\n",
    "print(\"On average, P(award | male_candidate) is \", abs(round(np.mean(logistic(fit['a_gender'][0]) - logistic(fit['a_gender'][1])), 3)), \"lower than P(award | female candidate)\")"
   ]
  },
  {
   "cell_type": "markdown",
   "id": "e290b756-5474-4c66-a312-cd5ca062de57",
   "metadata": {
    "tags": []
   },
   "source": [
    "## Question 2\n",
    "\n",
    "__Now estimate the DIRECT causal effect of gender on grant awards.__\n",
    "\n",
    "- Compute the average direct causal effect of gender, weighting each discipline in proportion to the number of applications in the sample. \n",
    "- Refer to the marginal effect example in Lecture 9 for help."
   ]
  },
  {
   "cell_type": "code",
   "execution_count": 80,
   "id": "f9ca752c-3652-4607-998c-2619c9b94302",
   "metadata": {},
   "outputs": [],
   "source": [
    "with open('models/w5_2.stan') as f:\n",
    "    model_code = f.read()\n",
    "    \n",
    "model_data = {\"N\": len(df),\n",
    "              \"N_GENDERS\": df.gender_num.nunique(),\n",
    "              \"N_DISCIPLINES\": df.discipline_num.nunique(),\n",
    "              \"discipline\": df.discipline_num.tolist(),\n",
    "              \"gender\": df.gender_num.tolist(),\n",
    "              \"awards\": df.awards.tolist(),\n",
    "              \"applications\": df.applications.tolist()}"
   ]
  },
  {
   "cell_type": "code",
   "execution_count": 81,
   "id": "f6f0ef36-3be0-46f9-bf73-4435e53bd467",
   "metadata": {
    "tags": []
   },
   "outputs": [],
   "source": [
    "%%capture\n",
    "posterior = stan.build(model_code, model_data)"
   ]
  },
  {
   "cell_type": "code",
   "execution_count": 82,
   "id": "d5a4ca3a-92db-447e-9a61-d759f6e36327",
   "metadata": {},
   "outputs": [],
   "source": [
    "%%capture\n",
    "fit = posterior.sample(num_chains=4, num_samples=10000)"
   ]
  },
  {
   "cell_type": "code",
   "execution_count": 83,
   "id": "8b1a289d-c5cf-4b8b-a5f7-172726f59700",
   "metadata": {},
   "outputs": [
    {
     "name": "stdout",
     "output_type": "stream",
     "text": [
      "P(award | male_applicant) =  0.219\n",
      "P(award | female_applicant) =  0.243\n",
      "On average, P(award | male_candidate) is  0.024 lower than P(award | female candidate)\n"
     ]
    }
   ],
   "source": [
    "print(\"P(award | male_applicant) = \", round(np.mean(logistic(fit['a_gender'][0])), 3))\n",
    "print(\"P(award | female_applicant) = \", round(np.mean(logistic(fit['a_gender'][1])), 3))\n",
    "\n",
    "print(\"On average, P(award | male_candidate) is \", abs(round(np.mean(logistic(fit['a_gender'][0]) - logistic(fit['a_gender'][1])), 3)), \"lower than P(award | female candidate)\")"
   ]
  },
  {
   "cell_type": "code",
   "execution_count": 84,
   "id": "f8db1e9c-29f6-4479-91f3-9c1ddcd7d52b",
   "metadata": {},
   "outputs": [
    {
     "data": {
      "text/plain": [
       "0.24258866695725356"
      ]
     },
     "execution_count": 84,
     "metadata": {},
     "output_type": "execute_result"
    }
   ],
   "source": [
    "np.mean(logistic(fit['a_gender'][1]))"
   ]
  },
  {
   "cell_type": "code",
   "execution_count": 85,
   "id": "cf093feb-1943-41d5-9aee-65b9bd6a8546",
   "metadata": {},
   "outputs": [
    {
     "data": {
      "text/plain": [
       "-0.023741536346116754"
      ]
     },
     "execution_count": 85,
     "metadata": {},
     "output_type": "execute_result"
    }
   ],
   "source": [
    "np.mean(logistic(fit['a_gender'][0]) - logistic(fit['a_gender'][1]))"
   ]
  },
  {
   "cell_type": "code",
   "execution_count": null,
   "id": "d3683061-c427-4906-abbf-5bdb341d7966",
   "metadata": {},
   "outputs": [],
   "source": []
  },
  {
   "cell_type": "markdown",
   "id": "413497c1-0bc2-465e-9d6b-8f57cf0783ad",
   "metadata": {
    "jp-MarkdownHeadingCollapsed": true,
    "tags": []
   },
   "source": [
    "## Question 3\n",
    "\n",
    "Considering the total effect (problem 1) and direct effect (problem 2) of gender, what causes contribute to the average difference between women and men in award rate in this sample? It is not necessary to say whether or not there is evidence of discrimination. \n",
    "\n",
    "- Simply explain how the direct effects you have estimated make sense (or not) of the total effect."
   ]
  },
  {
   "cell_type": "code",
   "execution_count": null,
   "id": "5633aa7d-1a4f-4c20-91b8-dfe1cbda5a82",
   "metadata": {},
   "outputs": [],
   "source": []
  },
  {
   "cell_type": "markdown",
   "id": "e0df89fb-d257-40e1-a7c7-4952579e76b7",
   "metadata": {},
   "source": [
    "## Question 4 (optional). \n",
    "\n",
    "The data in data(UFClefties) are the outcomes of 205 Ultimate Fighting Championship (UFC) matches (see ?UFClefties for details). It is widely believed that left-handed fighters (aka “Southpaws”) have an advantage against right-handed fighters, and left-handed men are indeed over-represented among fighters (and fencers and tennis players) compared to the general population. \n",
    "\n",
    "- Estimate the average advantage, if any, that a left-handed fighter has against right-handed fighters. Based upon your estimate, why do you think lefthanders are over-represented among UFC fighters?"
   ]
  },
  {
   "cell_type": "code",
   "execution_count": null,
   "id": "1e209148-c6a3-4ba9-ba99-f0904d2c75f3",
   "metadata": {},
   "outputs": [],
   "source": []
  }
 ],
 "metadata": {
  "kernelspec": {
   "display_name": "Python 3 (ipykernel)",
   "language": "python",
   "name": "python3"
  },
  "language_info": {
   "codemirror_mode": {
    "name": "ipython",
    "version": 3
   },
   "file_extension": ".py",
   "mimetype": "text/x-python",
   "name": "python",
   "nbconvert_exporter": "python",
   "pygments_lexer": "ipython3",
   "version": "3.9.0"
  }
 },
 "nbformat": 4,
 "nbformat_minor": 5
}
