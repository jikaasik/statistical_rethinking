{
 "cells": [
  {
   "cell_type": "code",
   "execution_count": 41,
   "id": "3a04d0d0-cb41-4512-ac54-614935db2c42",
   "metadata": {},
   "outputs": [],
   "source": [
    "import numpy as np\n",
    "import scipy.stats as stats\n",
    "import matplotlib.pyplot as plt\n",
    "import seaborn as sns\n",
    "import arviz as az\n",
    "import stan_jupyter as stan\n",
    "import pandas as pd\n",
    "\n",
    "import sys         \n",
    "\n",
    "sys.path.append('../../disty')        \n",
    "from disty import Posterior, DataTools\n",
    "dt = DataTools()"
   ]
  },
  {
   "cell_type": "code",
   "execution_count": 23,
   "id": "579a8870-126f-401e-9ac5-01531d75db9d",
   "metadata": {},
   "outputs": [],
   "source": [
    "df = pd.read_csv(\"sim_data.csv\")"
   ]
  },
  {
   "cell_type": "markdown",
   "id": "e14d23a0-f2ca-40dd-bfa3-90e177a390ca",
   "metadata": {
    "tags": []
   },
   "source": [
    "## Speed test: standardized, logged, normal"
   ]
  },
  {
   "cell_type": "markdown",
   "id": "658a4e93-8fde-49a8-83b9-5be7f3b39100",
   "metadata": {
    "tags": []
   },
   "source": [
    "## Poisson vs. negative binomial vs. normal"
   ]
  },
  {
   "cell_type": "markdown",
   "id": "04461329-60ab-42fb-bade-e14e7666b94e",
   "metadata": {
    "tags": []
   },
   "source": [
    "## Using matrices for covariates "
   ]
  },
  {
   "cell_type": "markdown",
   "id": "cbf1d97b-4db6-46a3-b70e-9d91ff0d98b8",
   "metadata": {},
   "source": [
    "## Standardizing by group"
   ]
  },
  {
   "cell_type": "code",
   "execution_count": 24,
   "id": "60e11a20-a5f7-4b08-afb9-d8f7a425317e",
   "metadata": {},
   "outputs": [],
   "source": [
    "dt.standardize(df, [\"quantity\", \"price\", \"competitor_price\"], [\"sku\", \"account\"])\n",
    "dt.center(df, [\"quantity\", \"price\", \"competitor_price\"], [\"sku\", \"account\"])\n",
    "dt.log(df, [\"quantity\", \"price\", \"competitor_price\"])"
   ]
  },
  {
   "cell_type": "code",
   "execution_count": 25,
   "id": "79c155e4-f55b-404b-b46d-8ec64ad05967",
   "metadata": {},
   "outputs": [
    {
     "data": {
      "text/html": [
       "<div>\n",
       "<style scoped>\n",
       "    .dataframe tbody tr th:only-of-type {\n",
       "        vertical-align: middle;\n",
       "    }\n",
       "\n",
       "    .dataframe tbody tr th {\n",
       "        vertical-align: top;\n",
       "    }\n",
       "\n",
       "    .dataframe thead th {\n",
       "        text-align: right;\n",
       "    }\n",
       "</style>\n",
       "<table border=\"1\" class=\"dataframe\">\n",
       "  <thead>\n",
       "    <tr style=\"text-align: right;\">\n",
       "      <th></th>\n",
       "      <th>sku</th>\n",
       "      <th>account</th>\n",
       "      <th>price</th>\n",
       "      <th>competitor_price</th>\n",
       "      <th>quantity</th>\n",
       "      <th>std_quantity</th>\n",
       "      <th>std_price</th>\n",
       "      <th>std_competitor_price</th>\n",
       "      <th>ctr_quantity</th>\n",
       "      <th>ctr_price</th>\n",
       "      <th>ctr_competitor_price</th>\n",
       "      <th>log_quantity</th>\n",
       "      <th>log_price</th>\n",
       "      <th>log_competitor_price</th>\n",
       "    </tr>\n",
       "  </thead>\n",
       "  <tbody>\n",
       "    <tr>\n",
       "      <th>0</th>\n",
       "      <td>1</td>\n",
       "      <td>1</td>\n",
       "      <td>56.823414</td>\n",
       "      <td>42.491756</td>\n",
       "      <td>37</td>\n",
       "      <td>-0.091703</td>\n",
       "      <td>-1.037799</td>\n",
       "      <td>0.909556</td>\n",
       "      <td>-0.53</td>\n",
       "      <td>-7.003338</td>\n",
       "      <td>3.701783</td>\n",
       "      <td>3.610945</td>\n",
       "      <td>4.039966</td>\n",
       "      <td>3.749334</td>\n",
       "    </tr>\n",
       "    <tr>\n",
       "      <th>1</th>\n",
       "      <td>1</td>\n",
       "      <td>1</td>\n",
       "      <td>65.407358</td>\n",
       "      <td>37.075356</td>\n",
       "      <td>35</td>\n",
       "      <td>-0.437751</td>\n",
       "      <td>0.234224</td>\n",
       "      <td>-0.421294</td>\n",
       "      <td>-2.53</td>\n",
       "      <td>1.580606</td>\n",
       "      <td>-1.714617</td>\n",
       "      <td>3.555377</td>\n",
       "      <td>4.180650</td>\n",
       "      <td>3.612979</td>\n",
       "    </tr>\n",
       "    <tr>\n",
       "      <th>2</th>\n",
       "      <td>1</td>\n",
       "      <td>1</td>\n",
       "      <td>58.050157</td>\n",
       "      <td>36.086574</td>\n",
       "      <td>42</td>\n",
       "      <td>0.773417</td>\n",
       "      <td>-0.856012</td>\n",
       "      <td>-0.664245</td>\n",
       "      <td>4.47</td>\n",
       "      <td>-5.776595</td>\n",
       "      <td>-2.703398</td>\n",
       "      <td>3.737693</td>\n",
       "      <td>4.061325</td>\n",
       "      <td>3.585949</td>\n",
       "    </tr>\n",
       "    <tr>\n",
       "      <th>3</th>\n",
       "      <td>1</td>\n",
       "      <td>1</td>\n",
       "      <td>64.869742</td>\n",
       "      <td>36.131272</td>\n",
       "      <td>39</td>\n",
       "      <td>0.254345</td>\n",
       "      <td>0.154557</td>\n",
       "      <td>-0.653263</td>\n",
       "      <td>1.47</td>\n",
       "      <td>1.042990</td>\n",
       "      <td>-2.658700</td>\n",
       "      <td>3.663587</td>\n",
       "      <td>4.172397</td>\n",
       "      <td>3.587186</td>\n",
       "    </tr>\n",
       "    <tr>\n",
       "      <th>4</th>\n",
       "      <td>1</td>\n",
       "      <td>1</td>\n",
       "      <td>57.048158</td>\n",
       "      <td>42.046096</td>\n",
       "      <td>35</td>\n",
       "      <td>-0.437751</td>\n",
       "      <td>-1.004495</td>\n",
       "      <td>0.800054</td>\n",
       "      <td>-2.53</td>\n",
       "      <td>-6.778594</td>\n",
       "      <td>3.256123</td>\n",
       "      <td>3.555377</td>\n",
       "      <td>4.043913</td>\n",
       "      <td>3.738790</td>\n",
       "    </tr>\n",
       "    <tr>\n",
       "      <th>...</th>\n",
       "      <td>...</td>\n",
       "      <td>...</td>\n",
       "      <td>...</td>\n",
       "      <td>...</td>\n",
       "      <td>...</td>\n",
       "      <td>...</td>\n",
       "      <td>...</td>\n",
       "      <td>...</td>\n",
       "      <td>...</td>\n",
       "      <td>...</td>\n",
       "      <td>...</td>\n",
       "      <td>...</td>\n",
       "      <td>...</td>\n",
       "      <td>...</td>\n",
       "    </tr>\n",
       "    <tr>\n",
       "      <th>2495</th>\n",
       "      <td>5</td>\n",
       "      <td>5</td>\n",
       "      <td>145.665569</td>\n",
       "      <td>165.042661</td>\n",
       "      <td>34</td>\n",
       "      <td>-0.286693</td>\n",
       "      <td>-0.077608</td>\n",
       "      <td>-0.810509</td>\n",
       "      <td>-2.52</td>\n",
       "      <td>-1.389133</td>\n",
       "      <td>-14.787764</td>\n",
       "      <td>3.526390</td>\n",
       "      <td>4.981320</td>\n",
       "      <td>5.106210</td>\n",
       "    </tr>\n",
       "    <tr>\n",
       "      <th>2496</th>\n",
       "      <td>5</td>\n",
       "      <td>5</td>\n",
       "      <td>155.103174</td>\n",
       "      <td>194.590884</td>\n",
       "      <td>36</td>\n",
       "      <td>-0.059159</td>\n",
       "      <td>0.449650</td>\n",
       "      <td>0.809012</td>\n",
       "      <td>-0.52</td>\n",
       "      <td>8.048472</td>\n",
       "      <td>14.760459</td>\n",
       "      <td>3.583547</td>\n",
       "      <td>5.044097</td>\n",
       "      <td>5.270904</td>\n",
       "    </tr>\n",
       "    <tr>\n",
       "      <th>2497</th>\n",
       "      <td>5</td>\n",
       "      <td>5</td>\n",
       "      <td>151.931073</td>\n",
       "      <td>176.497027</td>\n",
       "      <td>29</td>\n",
       "      <td>-0.855528</td>\n",
       "      <td>0.272432</td>\n",
       "      <td>-0.182702</td>\n",
       "      <td>-7.52</td>\n",
       "      <td>4.876372</td>\n",
       "      <td>-3.333399</td>\n",
       "      <td>3.367330</td>\n",
       "      <td>5.023434</td>\n",
       "      <td>5.173310</td>\n",
       "    </tr>\n",
       "    <tr>\n",
       "      <th>2498</th>\n",
       "      <td>5</td>\n",
       "      <td>5</td>\n",
       "      <td>146.788845</td>\n",
       "      <td>227.713877</td>\n",
       "      <td>53</td>\n",
       "      <td>1.874881</td>\n",
       "      <td>-0.014853</td>\n",
       "      <td>2.624464</td>\n",
       "      <td>16.48</td>\n",
       "      <td>-0.265857</td>\n",
       "      <td>47.883452</td>\n",
       "      <td>3.970311</td>\n",
       "      <td>4.989002</td>\n",
       "      <td>5.428094</td>\n",
       "    </tr>\n",
       "    <tr>\n",
       "      <th>2499</th>\n",
       "      <td>5</td>\n",
       "      <td>5</td>\n",
       "      <td>138.263665</td>\n",
       "      <td>158.740651</td>\n",
       "      <td>27</td>\n",
       "      <td>-1.083062</td>\n",
       "      <td>-0.491136</td>\n",
       "      <td>-1.155918</td>\n",
       "      <td>-9.52</td>\n",
       "      <td>-8.791037</td>\n",
       "      <td>-21.089774</td>\n",
       "      <td>3.295874</td>\n",
       "      <td>4.929170</td>\n",
       "      <td>5.067278</td>\n",
       "    </tr>\n",
       "  </tbody>\n",
       "</table>\n",
       "<p>2500 rows × 14 columns</p>\n",
       "</div>"
      ],
      "text/plain": [
       "      sku  account       price  competitor_price  quantity  std_quantity  \\\n",
       "0       1        1   56.823414         42.491756        37     -0.091703   \n",
       "1       1        1   65.407358         37.075356        35     -0.437751   \n",
       "2       1        1   58.050157         36.086574        42      0.773417   \n",
       "3       1        1   64.869742         36.131272        39      0.254345   \n",
       "4       1        1   57.048158         42.046096        35     -0.437751   \n",
       "...   ...      ...         ...               ...       ...           ...   \n",
       "2495    5        5  145.665569        165.042661        34     -0.286693   \n",
       "2496    5        5  155.103174        194.590884        36     -0.059159   \n",
       "2497    5        5  151.931073        176.497027        29     -0.855528   \n",
       "2498    5        5  146.788845        227.713877        53      1.874881   \n",
       "2499    5        5  138.263665        158.740651        27     -1.083062   \n",
       "\n",
       "      std_price  std_competitor_price  ctr_quantity  ctr_price  \\\n",
       "0     -1.037799              0.909556         -0.53  -7.003338   \n",
       "1      0.234224             -0.421294         -2.53   1.580606   \n",
       "2     -0.856012             -0.664245          4.47  -5.776595   \n",
       "3      0.154557             -0.653263          1.47   1.042990   \n",
       "4     -1.004495              0.800054         -2.53  -6.778594   \n",
       "...         ...                   ...           ...        ...   \n",
       "2495  -0.077608             -0.810509         -2.52  -1.389133   \n",
       "2496   0.449650              0.809012         -0.52   8.048472   \n",
       "2497   0.272432             -0.182702         -7.52   4.876372   \n",
       "2498  -0.014853              2.624464         16.48  -0.265857   \n",
       "2499  -0.491136             -1.155918         -9.52  -8.791037   \n",
       "\n",
       "      ctr_competitor_price  log_quantity  log_price  log_competitor_price  \n",
       "0                 3.701783      3.610945   4.039966              3.749334  \n",
       "1                -1.714617      3.555377   4.180650              3.612979  \n",
       "2                -2.703398      3.737693   4.061325              3.585949  \n",
       "3                -2.658700      3.663587   4.172397              3.587186  \n",
       "4                 3.256123      3.555377   4.043913              3.738790  \n",
       "...                    ...           ...        ...                   ...  \n",
       "2495            -14.787764      3.526390   4.981320              5.106210  \n",
       "2496             14.760459      3.583547   5.044097              5.270904  \n",
       "2497             -3.333399      3.367330   5.023434              5.173310  \n",
       "2498             47.883452      3.970311   4.989002              5.428094  \n",
       "2499            -21.089774      3.295874   4.929170              5.067278  \n",
       "\n",
       "[2500 rows x 14 columns]"
      ]
     },
     "execution_count": 25,
     "metadata": {},
     "output_type": "execute_result"
    }
   ],
   "source": [
    "df"
   ]
  },
  {
   "cell_type": "code",
   "execution_count": 26,
   "id": "5948d923-e3ba-43ad-ada7-48aa3c4de0ee",
   "metadata": {},
   "outputs": [
    {
     "name": "stdout",
     "output_type": "stream",
     "text": [
      "one 3\n",
      "two 10\n"
     ]
    }
   ],
   "source": [
    "group_counts = [3, 10]\n",
    "group_cols = [\"one\", \"two\"]\n",
    "\n",
    "for i in range(len(group_cols)):\n",
    "    print(group_cols[i], group_counts[i])"
   ]
  },
  {
   "cell_type": "code",
   "execution_count": 27,
   "id": "5934bb6b-fb0c-4210-ae57-2ff6b53e47e9",
   "metadata": {},
   "outputs": [],
   "source": [
    "with open(\"stan_code/base_case_prior_predictive_check.stan\", \"r\") as f:\n",
    "    model_code = f.read()\n",
    "    \n",
    "model_data = {\n",
    "    \"N\":len(df),\n",
    "    \"N_SKUS\":df.sku.nunique(),\n",
    "    \"N_ACCOUNTS\":df.account.nunique(),\n",
    "    \"sku\":df.sku.tolist(),\n",
    "    \"account\":df.account.tolist(),\n",
    "    \"quantity\":df.quantity.tolist(),\n",
    "    \"price\":df.price.tolist(),\n",
    "    \"competitor_price\":df.competitor_price.tolist(),\n",
    "}"
   ]
  },
  {
   "cell_type": "code",
   "execution_count": 28,
   "id": "9c7cb620-03cb-4060-9c28-3a702de46c0a",
   "metadata": {
    "tags": []
   },
   "outputs": [],
   "source": [
    "%%capture\n",
    "posterior = stan.build(model_code, model_data)"
   ]
  },
  {
   "cell_type": "code",
   "execution_count": 29,
   "id": "cc2edbff-1c9b-4d2e-a007-175da9ff88eb",
   "metadata": {
    "tags": []
   },
   "outputs": [
    {
     "name": "stdout",
     "output_type": "stream",
     "text": [
      "CPU times: user 23.3 s, sys: 1.79 s, total: 25.1 s\n",
      "Wall time: 48.1 s\n"
     ]
    }
   ],
   "source": [
    "%%time\n",
    "%%capture\n",
    "fit = posterior.sample(num_chains=4, num_samples=1000) # Normal model"
   ]
  },
  {
   "cell_type": "code",
   "execution_count": 18,
   "id": "1461e05e-2a30-4cff-9605-961e93d309a7",
   "metadata": {},
   "outputs": [
    {
     "data": {
      "text/plain": [
       "['alpha', 'beta', 'gamma', 'sigma', 'mu', 'y_pred']"
      ]
     },
     "execution_count": 18,
     "metadata": {},
     "output_type": "execute_result"
    }
   ],
   "source": [
    "[k for k in fit]"
   ]
  },
  {
   "cell_type": "code",
   "execution_count": 76,
   "id": "7de89471-3244-43d9-b1ac-73e122865ad4",
   "metadata": {},
   "outputs": [],
   "source": [
    "class Posterior:\n",
    "\n",
    "    def __init__(self, fit):\n",
    "        self.fit = fit\n",
    "\n",
    "        for key in fit:\n",
    "            setattr(self, key, [n for n in self.fit[key][0]])\n",
    "\n",
    "    def list_params(self):\n",
    "        return([k for k in self.fit])\n",
    "\n",
    "    def plot_coef(self, X, y, intercept, coef):\n",
    "\n",
    "        size = len(coef)\n",
    "        scale = np.linspace(min(X)-np.mean(X), max(X)-np.mean(X), size)\n",
    "\n",
    "        plt.figure(figsize=(20, 10))\n",
    "        plt.plot(X-np.mean(X), y-np.mean(y), \"C0o\", alpha=.3)\n",
    "        for i in range(1, size):\n",
    "            plt.plot(\n",
    "                scale,\n",
    "                intercept[i]+coef[i]*scale,\n",
    "                color='black',\n",
    "                alpha=.01)\n",
    "            plt.title(\"Slope for coefficient\")\n",
    "            plt.xlabel(\"X value\")\n",
    "            plt.ylabel(\"Predicted\")\n"
   ]
  },
  {
   "cell_type": "code",
   "execution_count": 77,
   "id": "c27a58a4-89ac-4fea-9dcc-75f946ff7d28",
   "metadata": {},
   "outputs": [],
   "source": [
    "test = Posterior(fit)"
   ]
  },
  {
   "cell_type": "code",
   "execution_count": 1,
   "id": "95254199-fe1d-4b54-b617-949bd10853f0",
   "metadata": {},
   "outputs": [],
   "source": [
    "#test.plot_coef(df.price.tolist(), df.quantity.tolist(), test.alpha, test.beta)"
   ]
  },
  {
   "cell_type": "code",
   "execution_count": 63,
   "id": "68e44297-8005-45d6-a8ad-1875171392f3",
   "metadata": {},
   "outputs": [
    {
     "data": {
      "text/plain": [
       "count    2500.000000\n",
       "mean       36.474400\n",
       "std         6.819204\n",
       "min        15.000000\n",
       "25%        32.000000\n",
       "50%        36.000000\n",
       "75%        41.000000\n",
       "max        64.000000\n",
       "Name: quantity, dtype: float64"
      ]
     },
     "execution_count": 63,
     "metadata": {},
     "output_type": "execute_result"
    }
   ],
   "source": [
    "df.quantity.describe()"
   ]
  },
  {
   "cell_type": "code",
   "execution_count": null,
   "id": "9a046aad-ab90-40a9-ade7-ae87d4625df3",
   "metadata": {},
   "outputs": [],
   "source": [
    "plt.figure(figsize=(20,10))\n",
    "for i in range(1, 10000):\n",
    "    plt.plot(\n",
    "        df.price-df.price.mean(),\n",
    "        sample_alpha[i]+sample_beta[i]*(df.age-df.age.mean()),\n",
    "        color='black',\n",
    "        alpha=.01)"
   ]
  },
  {
   "cell_type": "code",
   "execution_count": 26,
   "id": "29afb4fd-8fcf-4a16-b139-3d748e0f4a99",
   "metadata": {},
   "outputs": [
    {
     "data": {
      "text/plain": [
       "0      -43.821961\n",
       "1      -35.238017\n",
       "2      -42.595218\n",
       "3      -35.775633\n",
       "4      -43.597217\n",
       "          ...    \n",
       "2495    45.020194\n",
       "2496    54.457799\n",
       "2497    51.285698\n",
       "2498    46.143470\n",
       "2499    37.618290\n",
       "Name: price, Length: 2500, dtype: float64"
      ]
     },
     "execution_count": 26,
     "metadata": {},
     "output_type": "execute_result"
    }
   ],
   "source": [
    "scale"
   ]
  },
  {
   "cell_type": "code",
   "execution_count": 231,
   "id": "62a73e44-5e12-4563-bec6-054963aec9b9",
   "metadata": {},
   "outputs": [
    {
     "data": {
      "text/plain": [
       "<AxesSubplot:>"
      ]
     },
     "execution_count": 231,
     "metadata": {},
     "output_type": "execute_result"
    },
    {
     "data": {
      "image/png": "[encoded data removed]",
      "text/plain": [
       "<Figure size 2160x720 with 1 Axes>"
      ]
     },
     "metadata": {
      "needs_background": "light"
     },
     "output_type": "display_data"
    }
   ],
   "source": [
    "plt.figure(figsize=(30, 10))\n",
    "az.plot_kde(fit['y_pred'])"
   ]
  },
  {
   "cell_type": "code",
   "execution_count": 232,
   "id": "f2ec1c15-ead2-430a-8d8d-70cd4b55877d",
   "metadata": {},
   "outputs": [
    {
     "data": {
      "text/html": [
       "<div>\n",
       "<style scoped>\n",
       "    .dataframe tbody tr th:only-of-type {\n",
       "        vertical-align: middle;\n",
       "    }\n",
       "\n",
       "    .dataframe tbody tr th {\n",
       "        vertical-align: top;\n",
       "    }\n",
       "\n",
       "    .dataframe thead th {\n",
       "        text-align: right;\n",
       "    }\n",
       "</style>\n",
       "<table border=\"1\" class=\"dataframe\">\n",
       "  <thead>\n",
       "    <tr style=\"text-align: right;\">\n",
       "      <th></th>\n",
       "      <th>mean</th>\n",
       "      <th>sd</th>\n",
       "      <th>hdi_3%</th>\n",
       "      <th>hdi_97%</th>\n",
       "      <th>mcse_mean</th>\n",
       "      <th>mcse_sd</th>\n",
       "      <th>ess_bulk</th>\n",
       "      <th>ess_tail</th>\n",
       "      <th>r_hat</th>\n",
       "    </tr>\n",
       "  </thead>\n",
       "  <tbody>\n",
       "    <tr>\n",
       "      <th>alpha</th>\n",
       "      <td>52.907</td>\n",
       "      <td>19.213</td>\n",
       "      <td>17.232</td>\n",
       "      <td>91.275</td>\n",
       "      <td>2.140</td>\n",
       "      <td>1.519</td>\n",
       "      <td>82.0</td>\n",
       "      <td>47.0</td>\n",
       "      <td>1.06</td>\n",
       "    </tr>\n",
       "    <tr>\n",
       "      <th>beta</th>\n",
       "      <td>-2.142</td>\n",
       "      <td>0.946</td>\n",
       "      <td>-3.650</td>\n",
       "      <td>-0.484</td>\n",
       "      <td>0.121</td>\n",
       "      <td>0.086</td>\n",
       "      <td>48.0</td>\n",
       "      <td>32.0</td>\n",
       "      <td>1.08</td>\n",
       "    </tr>\n",
       "    <tr>\n",
       "      <th>gamma</th>\n",
       "      <td>2.184</td>\n",
       "      <td>0.931</td>\n",
       "      <td>0.387</td>\n",
       "      <td>3.842</td>\n",
       "      <td>0.095</td>\n",
       "      <td>0.067</td>\n",
       "      <td>94.0</td>\n",
       "      <td>97.0</td>\n",
       "      <td>1.05</td>\n",
       "    </tr>\n",
       "    <tr>\n",
       "      <th>sigma</th>\n",
       "      <td>4.309</td>\n",
       "      <td>2.501</td>\n",
       "      <td>0.232</td>\n",
       "      <td>8.721</td>\n",
       "      <td>0.283</td>\n",
       "      <td>0.201</td>\n",
       "      <td>66.0</td>\n",
       "      <td>155.0</td>\n",
       "      <td>1.06</td>\n",
       "    </tr>\n",
       "    <tr>\n",
       "      <th>mu[0]</th>\n",
       "      <td>21.305</td>\n",
       "      <td>69.115</td>\n",
       "      <td>-102.815</td>\n",
       "      <td>136.718</td>\n",
       "      <td>6.788</td>\n",
       "      <td>4.813</td>\n",
       "      <td>105.0</td>\n",
       "      <td>194.0</td>\n",
       "      <td>1.02</td>\n",
       "    </tr>\n",
       "    <tr>\n",
       "      <th>...</th>\n",
       "      <td>...</td>\n",
       "      <td>...</td>\n",
       "      <td>...</td>\n",
       "      <td>...</td>\n",
       "      <td>...</td>\n",
       "      <td>...</td>\n",
       "      <td>...</td>\n",
       "      <td>...</td>\n",
       "      <td>...</td>\n",
       "    </tr>\n",
       "    <tr>\n",
       "      <th>y_pred[2495]</th>\n",
       "      <td>98.598</td>\n",
       "      <td>76.830</td>\n",
       "      <td>-65.165</td>\n",
       "      <td>213.313</td>\n",
       "      <td>8.513</td>\n",
       "      <td>6.041</td>\n",
       "      <td>82.0</td>\n",
       "      <td>122.0</td>\n",
       "      <td>1.03</td>\n",
       "    </tr>\n",
       "    <tr>\n",
       "      <th>y_pred[2496]</th>\n",
       "      <td>143.114</td>\n",
       "      <td>103.609</td>\n",
       "      <td>-63.932</td>\n",
       "      <td>314.927</td>\n",
       "      <td>11.174</td>\n",
       "      <td>7.928</td>\n",
       "      <td>87.0</td>\n",
       "      <td>152.0</td>\n",
       "      <td>1.03</td>\n",
       "    </tr>\n",
       "    <tr>\n",
       "      <th>y_pred[2497]</th>\n",
       "      <td>110.226</td>\n",
       "      <td>88.313</td>\n",
       "      <td>-63.762</td>\n",
       "      <td>259.266</td>\n",
       "      <td>9.692</td>\n",
       "      <td>6.878</td>\n",
       "      <td>83.0</td>\n",
       "      <td>96.0</td>\n",
       "      <td>1.03</td>\n",
       "    </tr>\n",
       "    <tr>\n",
       "      <th>y_pred[2498]</th>\n",
       "      <td>233.187</td>\n",
       "      <td>128.115</td>\n",
       "      <td>-2.622</td>\n",
       "      <td>464.295</td>\n",
       "      <td>13.212</td>\n",
       "      <td>9.372</td>\n",
       "      <td>94.0</td>\n",
       "      <td>123.0</td>\n",
       "      <td>1.04</td>\n",
       "    </tr>\n",
       "    <tr>\n",
       "      <th>y_pred[2499]</th>\n",
       "      <td>100.537</td>\n",
       "      <td>68.466</td>\n",
       "      <td>-35.745</td>\n",
       "      <td>213.377</td>\n",
       "      <td>7.774</td>\n",
       "      <td>5.518</td>\n",
       "      <td>77.0</td>\n",
       "      <td>109.0</td>\n",
       "      <td>1.03</td>\n",
       "    </tr>\n",
       "  </tbody>\n",
       "</table>\n",
       "<p>5004 rows × 9 columns</p>\n",
       "</div>"
      ],
      "text/plain": [
       "                 mean       sd   hdi_3%  hdi_97%  mcse_mean  mcse_sd  \\\n",
       "alpha          52.907   19.213   17.232   91.275      2.140    1.519   \n",
       "beta           -2.142    0.946   -3.650   -0.484      0.121    0.086   \n",
       "gamma           2.184    0.931    0.387    3.842      0.095    0.067   \n",
       "sigma           4.309    2.501    0.232    8.721      0.283    0.201   \n",
       "mu[0]          21.305   69.115 -102.815  136.718      6.788    4.813   \n",
       "...               ...      ...      ...      ...        ...      ...   \n",
       "y_pred[2495]   98.598   76.830  -65.165  213.313      8.513    6.041   \n",
       "y_pred[2496]  143.114  103.609  -63.932  314.927     11.174    7.928   \n",
       "y_pred[2497]  110.226   88.313  -63.762  259.266      9.692    6.878   \n",
       "y_pred[2498]  233.187  128.115   -2.622  464.295     13.212    9.372   \n",
       "y_pred[2499]  100.537   68.466  -35.745  213.377      7.774    5.518   \n",
       "\n",
       "              ess_bulk  ess_tail  r_hat  \n",
       "alpha             82.0      47.0   1.06  \n",
       "beta              48.0      32.0   1.08  \n",
       "gamma             94.0      97.0   1.05  \n",
       "sigma             66.0     155.0   1.06  \n",
       "mu[0]            105.0     194.0   1.02  \n",
       "...                ...       ...    ...  \n",
       "y_pred[2495]      82.0     122.0   1.03  \n",
       "y_pred[2496]      87.0     152.0   1.03  \n",
       "y_pred[2497]      83.0      96.0   1.03  \n",
       "y_pred[2498]      94.0     123.0   1.04  \n",
       "y_pred[2499]      77.0     109.0   1.03  \n",
       "\n",
       "[5004 rows x 9 columns]"
      ]
     },
     "execution_count": 232,
     "metadata": {},
     "output_type": "execute_result"
    }
   ],
   "source": [
    "az.summary(fit)"
   ]
  },
  {
   "cell_type": "code",
   "execution_count": null,
   "id": "b3957cc0-7eec-4ff6-bd7d-fb0f270e5bb6",
   "metadata": {},
   "outputs": [],
   "source": [
    "az.plot_kde(stats.norm.rvs(loc=50, scale=30, size=1000))"
   ]
  },
  {
   "cell_type": "code",
   "execution_count": 72,
   "id": "62288253-4309-4b33-9629-aa8921dff2d4",
   "metadata": {
    "collapsed": true,
    "jupyter": {
     "outputs_hidden": true
    },
    "tags": []
   },
   "outputs": [
    {
     "name": "stderr",
     "output_type": "stream",
     "text": [
      "\u001b[36mSampling:\u001b[0m   0%\n",
      "\u001b[1A\u001b[0J\u001b[36mSampling:\u001b[0m   0% (1/8000)\n",
      "\u001b[1A\u001b[0J\u001b[36mSampling:\u001b[0m   0% (2/8000)\n",
      "\u001b[1A\u001b[0J\u001b[36mSampling:\u001b[0m   0% (3/8000)\n",
      "\u001b[1A\u001b[0J\u001b[36mSampling:\u001b[0m   1% (103/8000)\n",
      "\u001b[1A\u001b[0J\u001b[36mSampling:\u001b[0m   3% (202/8000)\n",
      "\u001b[1A\u001b[0J\u001b[36mSampling:\u001b[0m   5% (401/8000)\n",
      "\u001b[1A\u001b[0J\u001b[36mSampling:\u001b[0m   8% (600/8000)\n",
      "\u001b[1A\u001b[0J\u001b[36mSampling:\u001b[0m   9% (700/8000)\n",
      "\u001b[1A\u001b[0J\u001b[36mSampling:\u001b[0m  11% (900/8000)\n",
      "\u001b[1A\u001b[0J\u001b[36mSampling:\u001b[0m  12% (1000/8000)\n",
      "\u001b[1A\u001b[0J\u001b[36mSampling:\u001b[0m  14% (1100/8000)\n",
      "\u001b[1A\u001b[0J\u001b[36mSampling:\u001b[0m  15% (1200/8000)\n",
      "\u001b[1A\u001b[0J\u001b[36mSampling:\u001b[0m  16% (1300/8000)\n",
      "\u001b[1A\u001b[0J\u001b[36mSampling:\u001b[0m  19% (1500/8000)\n",
      "\u001b[1A\u001b[0J\u001b[36mSampling:\u001b[0m  21% (1700/8000)\n",
      "\u001b[1A\u001b[0J\u001b[36mSampling:\u001b[0m  24% (1900/8000)\n",
      "\u001b[1A\u001b[0J\u001b[36mSampling:\u001b[0m  25% (2000/8000)\n",
      "\u001b[1A\u001b[0J\u001b[36mSampling:\u001b[0m  28% (2200/8000)\n",
      "\u001b[1A\u001b[0J\u001b[36mSampling:\u001b[0m  29% (2300/8000)\n",
      "\u001b[1A\u001b[0J\u001b[36mSampling:\u001b[0m  30% (2400/8000)\n",
      "\u001b[1A\u001b[0J\u001b[36mSampling:\u001b[0m  31% (2500/8000)\n",
      "\u001b[1A\u001b[0J\u001b[36mSampling:\u001b[0m  34% (2700/8000)\n",
      "\u001b[1A\u001b[0J\u001b[36mSampling:\u001b[0m  35% (2800/8000)\n",
      "\u001b[1A\u001b[0J\u001b[36mSampling:\u001b[0m  36% (2900/8000)\n",
      "\u001b[1A\u001b[0J\u001b[36mSampling:\u001b[0m  51% (4100/8000)\n",
      "\u001b[1A\u001b[0J\u001b[36mSampling:\u001b[0m  68% (5400/8000)\n",
      "\u001b[1A\u001b[0J\u001b[36mSampling:\u001b[0m  70% (5601/8000)\n",
      "\u001b[1A\u001b[0J\u001b[36mSampling:\u001b[0m  88% (7001/8000)\n",
      "\u001b[1A\u001b[0J\u001b[36mSampling:\u001b[0m  89% (7100/8000)\n",
      "\u001b[1A\u001b[0J\u001b[36mSampling:\u001b[0m  90% (7200/8000)\n",
      "\u001b[1A\u001b[0J\u001b[36mSampling:\u001b[0m  91% (7300/8000)\n",
      "\u001b[1A\u001b[0J\u001b[36mSampling:\u001b[0m  92% (7400/8000)\n",
      "\u001b[1A\u001b[0J\u001b[36mSampling:\u001b[0m  94% (7500/8000)\n",
      "\u001b[1A\u001b[0J\u001b[36mSampling:\u001b[0m  95% (7600/8000)\n",
      "\u001b[1A\u001b[0J\u001b[36mSampling:\u001b[0m  96% (7700/8000)\n",
      "\u001b[1A\u001b[0J\u001b[36mSampling:\u001b[0m  98% (7800/8000)\n",
      "\u001b[1A\u001b[0J\u001b[36mSampling:\u001b[0m  99% (7900/8000)\n",
      "\u001b[1A\u001b[0J\u001b[36mSampling:\u001b[0m 100% (8000/8000)\n",
      "\u001b[1A\u001b[0J\u001b[32mSampling:\u001b[0m 100% (8000/8000), done.\n",
      "\u001b[36mMessages received during sampling:\u001b[0m\n",
      "  Gradient evaluation took 0.000307 seconds\n",
      "  1000 transitions using 10 leapfrog steps per transition would take 3.07 seconds.\n",
      "  Adjust your expectations accordingly!\n",
      "  Gradient evaluation took 0.000303 seconds\n",
      "  1000 transitions using 10 leapfrog steps per transition would take 3.03 seconds.\n",
      "  Adjust your expectations accordingly!\n",
      "  Gradient evaluation took 0.000312 seconds\n",
      "  1000 transitions using 10 leapfrog steps per transition would take 3.12 seconds.\n",
      "  Adjust your expectations accordingly!\n",
      "  Gradient evaluation took 0.000292 seconds\n",
      "  1000 transitions using 10 leapfrog steps per transition would take 2.92 seconds.\n",
      "  Adjust your expectations accordingly!\n"
     ]
    },
    {
     "name": "stdout",
     "output_type": "stream",
     "text": [
      "CPU times: user 25.7 s, sys: 1.71 s, total: 27.5 s\n",
      "Wall time: 49.8 s\n"
     ]
    }
   ],
   "source": [
    "%%time\n",
    "#%%capture\n",
    "fit = posterior.sample(num_chains=4, num_samples=1000) # Standardized"
   ]
  },
  {
   "cell_type": "code",
   "execution_count": 162,
   "id": "908807da-2aef-4905-81ba-cbb6563d834f",
   "metadata": {},
   "outputs": [
    {
     "data": {
      "text/plain": [
       "<AxesSubplot:>"
      ]
     },
     "execution_count": 162,
     "metadata": {},
     "output_type": "execute_result"
    },
    {
     "data": {
      "image/png": "[encoded data removed]",
      "text/plain": [
       "<Figure size 432x288 with 1 Axes>"
      ]
     },
     "metadata": {
      "needs_background": "light"
     },
     "output_type": "display_data"
    }
   ],
   "source": [
    "az.plot_kde([n.mean() for n in fit['account_slope']])"
   ]
  },
  {
   "cell_type": "code",
   "execution_count": 161,
   "id": "fb0fc885-7475-41a5-8ff0-a882bb92d6ef",
   "metadata": {},
   "outputs": [
    {
     "data": {
      "text/plain": [
       "<AxesSubplot:>"
      ]
     },
     "execution_count": 161,
     "metadata": {},
     "output_type": "execute_result"
    },
    {
     "data": {
      "image/png": "[encoded data removed]",
      "text/plain": [
       "<Figure size 432x288 with 1 Axes>"
      ]
     },
     "metadata": {
      "needs_background": "light"
     },
     "output_type": "display_data"
    }
   ],
   "source": [
    "az.plot_kde([n.mean() for n in fit['y_pred']])\n",
    "az.plot_kde([n.mean() for n in fit['y']], plot_kwargs={\"color\":'r'})"
   ]
  },
  {
   "cell_type": "code",
   "execution_count": null,
   "id": "7274a7d4-5f7f-4284-b5ae-2a1f2953c04d",
   "metadata": {},
   "outputs": [],
   "source": []
  }
 ],
 "metadata": {
  "kernelspec": {
   "display_name": "Python 3 (ipykernel)",
   "language": "python",
   "name": "python3"
  },
  "language_info": {
   "codemirror_mode": {
    "name": "ipython",
    "version": 3
   },
   "file_extension": ".py",
   "mimetype": "text/x-python",
   "name": "python",
   "nbconvert_exporter": "python",
   "pygments_lexer": "ipython3",
   "version": "3.9.9"
  }
 },
 "nbformat": 4,
 "nbformat_minor": 5
}
